{
 "cells": [
  {
   "cell_type": "code",
   "execution_count": 53,
   "metadata": {},
   "outputs": [],
   "source": [
    "import pandas as pd\n",
    "import numpy as np\n",
    "from sklearn.model_selection import train_test_split\n",
    "from sklearn.ensemble import RandomForestClassifier\n",
    "from sklearn.metrics import accuracy_score, classification_report\n",
    "from statistics import mode\n",
    "import os\n",
    "from sklearn.model_selection import GridSearchCV\n",
    "from sklearn.preprocessing import StandardScaler\n",
    "from sklearn.feature_selection import RFECV\n",
    "from sklearn.feature_selection import RFE \n",
    "from sklearn.linear_model import LogisticRegression\n",
    "from sklearn.pipeline import Pipeline\n"
   ]
  },
  {
   "cell_type": "code",
   "execution_count": 54,
   "metadata": {},
   "outputs": [],
   "source": [
    "path = 'C:\\\\Users\\\\aless\\\\Downloads\\\\combined_df_feat(1).csv'"
   ]
  },
  {
   "cell_type": "code",
   "execution_count": 55,
   "metadata": {},
   "outputs": [
    {
     "data": {
      "text/plain": [
       "Index(['acceleration_x', 'acceleration_y', 'acceleration_z', 'gyroscope_x',\n",
       "       'gyroscope_y', 'gyroscope_z', 'acceleration_x_median',\n",
       "       'acceleration_y_median', 'acceleration_z_median', 'gyroscope_x_median',\n",
       "       'gyroscope_y_median', 'gyroscope_z_median', 'acceleration_x_sum',\n",
       "       'acceleration_x_mean', 'acceleration_x_std', 'acceleration_x_min',\n",
       "       'acceleration_x_max', 'acceleration_y_sum', 'acceleration_y_mean',\n",
       "       'acceleration_y_std', 'acceleration_y_min', 'acceleration_y_max',\n",
       "       'acceleration_z_sum', 'acceleration_z_mean', 'acceleration_z_std',\n",
       "       'acceleration_z_min', 'acceleration_z_max', 'gyroscope_x_sum',\n",
       "       'gyroscope_x_mean', 'gyroscope_x_std', 'gyroscope_x_min',\n",
       "       'gyroscope_x_max', 'gyroscope_y_sum', 'gyroscope_y_mean',\n",
       "       'gyroscope_y_std', 'gyroscope_y_min', 'gyroscope_y_max',\n",
       "       'gyroscope_z_sum', 'gyroscope_z_mean', 'gyroscope_z_std',\n",
       "       'gyroscope_z_min', 'gyroscope_z_max', 'acc_magnitude_sum',\n",
       "       'acc_magnitude_mean', 'acc_magnitude_std', 'acc_magnitude_min',\n",
       "       'acc_magnitude_max', 'gyr_magnitude_sum', 'gyr_magnitude_mean',\n",
       "       'gyr_magnitude_std', 'gyr_magnitude_min', 'gyr_magnitude_max', 'label',\n",
       "       'filename'],\n",
       "      dtype='object')"
      ]
     },
     "execution_count": 55,
     "metadata": {},
     "output_type": "execute_result"
    }
   ],
   "source": [
    "data = pd.read_csv(path)\n",
    "data.columns\n"
   ]
  },
  {
   "cell_type": "code",
   "execution_count": 56,
   "metadata": {},
   "outputs": [
    {
     "data": {
      "text/html": [
       "<div>\n",
       "<style scoped>\n",
       "    .dataframe tbody tr th:only-of-type {\n",
       "        vertical-align: middle;\n",
       "    }\n",
       "\n",
       "    .dataframe tbody tr th {\n",
       "        vertical-align: top;\n",
       "    }\n",
       "\n",
       "    .dataframe thead th {\n",
       "        text-align: right;\n",
       "    }\n",
       "</style>\n",
       "<table border=\"1\" class=\"dataframe\">\n",
       "  <thead>\n",
       "    <tr style=\"text-align: right;\">\n",
       "      <th></th>\n",
       "      <th>acceleration_x</th>\n",
       "      <th>acceleration_y</th>\n",
       "      <th>acceleration_z</th>\n",
       "      <th>gyroscope_x</th>\n",
       "      <th>gyroscope_y</th>\n",
       "      <th>gyroscope_z</th>\n",
       "      <th>acceleration_x_median</th>\n",
       "      <th>acceleration_y_median</th>\n",
       "      <th>acceleration_z_median</th>\n",
       "      <th>gyroscope_x_median</th>\n",
       "      <th>...</th>\n",
       "      <th>acc_magnitude_min</th>\n",
       "      <th>acc_magnitude_max</th>\n",
       "      <th>gyr_magnitude_sum</th>\n",
       "      <th>gyr_magnitude_mean</th>\n",
       "      <th>gyr_magnitude_std</th>\n",
       "      <th>gyr_magnitude_min</th>\n",
       "      <th>gyr_magnitude_max</th>\n",
       "      <th>label</th>\n",
       "      <th>filename</th>\n",
       "      <th>simple_label</th>\n",
       "    </tr>\n",
       "  </thead>\n",
       "  <tbody>\n",
       "    <tr>\n",
       "      <th>0</th>\n",
       "      <td>4292</td>\n",
       "      <td>-570</td>\n",
       "      <td>847</td>\n",
       "      <td>23</td>\n",
       "      <td>-60</td>\n",
       "      <td>-14</td>\n",
       "      <td>NaN</td>\n",
       "      <td>NaN</td>\n",
       "      <td>NaN</td>\n",
       "      <td>NaN</td>\n",
       "      <td>...</td>\n",
       "      <td>NaN</td>\n",
       "      <td>NaN</td>\n",
       "      <td>NaN</td>\n",
       "      <td>NaN</td>\n",
       "      <td>NaN</td>\n",
       "      <td>NaN</td>\n",
       "      <td>NaN</td>\n",
       "      <td>standing</td>\n",
       "      <td>fall_back_data_20240129_163134_labeled</td>\n",
       "      <td>standing</td>\n",
       "    </tr>\n",
       "    <tr>\n",
       "      <th>1</th>\n",
       "      <td>4132</td>\n",
       "      <td>-223</td>\n",
       "      <td>886</td>\n",
       "      <td>-14</td>\n",
       "      <td>-14</td>\n",
       "      <td>53</td>\n",
       "      <td>NaN</td>\n",
       "      <td>NaN</td>\n",
       "      <td>NaN</td>\n",
       "      <td>NaN</td>\n",
       "      <td>...</td>\n",
       "      <td>NaN</td>\n",
       "      <td>NaN</td>\n",
       "      <td>NaN</td>\n",
       "      <td>NaN</td>\n",
       "      <td>NaN</td>\n",
       "      <td>NaN</td>\n",
       "      <td>NaN</td>\n",
       "      <td>standing</td>\n",
       "      <td>fall_back_data_20240129_163134_labeled</td>\n",
       "      <td>standing</td>\n",
       "    </tr>\n",
       "    <tr>\n",
       "      <th>2</th>\n",
       "      <td>4254</td>\n",
       "      <td>-361</td>\n",
       "      <td>1013</td>\n",
       "      <td>18</td>\n",
       "      <td>-78</td>\n",
       "      <td>25</td>\n",
       "      <td>NaN</td>\n",
       "      <td>NaN</td>\n",
       "      <td>NaN</td>\n",
       "      <td>NaN</td>\n",
       "      <td>...</td>\n",
       "      <td>NaN</td>\n",
       "      <td>NaN</td>\n",
       "      <td>NaN</td>\n",
       "      <td>NaN</td>\n",
       "      <td>NaN</td>\n",
       "      <td>NaN</td>\n",
       "      <td>NaN</td>\n",
       "      <td>standing</td>\n",
       "      <td>fall_back_data_20240129_163134_labeled</td>\n",
       "      <td>standing</td>\n",
       "    </tr>\n",
       "    <tr>\n",
       "      <th>3</th>\n",
       "      <td>4321</td>\n",
       "      <td>-270</td>\n",
       "      <td>979</td>\n",
       "      <td>-38</td>\n",
       "      <td>-65</td>\n",
       "      <td>31</td>\n",
       "      <td>NaN</td>\n",
       "      <td>NaN</td>\n",
       "      <td>NaN</td>\n",
       "      <td>NaN</td>\n",
       "      <td>...</td>\n",
       "      <td>NaN</td>\n",
       "      <td>NaN</td>\n",
       "      <td>NaN</td>\n",
       "      <td>NaN</td>\n",
       "      <td>NaN</td>\n",
       "      <td>NaN</td>\n",
       "      <td>NaN</td>\n",
       "      <td>standing</td>\n",
       "      <td>fall_back_data_20240129_163134_labeled</td>\n",
       "      <td>standing</td>\n",
       "    </tr>\n",
       "    <tr>\n",
       "      <th>4</th>\n",
       "      <td>4228</td>\n",
       "      <td>-371</td>\n",
       "      <td>1083</td>\n",
       "      <td>-68</td>\n",
       "      <td>-70</td>\n",
       "      <td>18</td>\n",
       "      <td>NaN</td>\n",
       "      <td>NaN</td>\n",
       "      <td>NaN</td>\n",
       "      <td>NaN</td>\n",
       "      <td>...</td>\n",
       "      <td>NaN</td>\n",
       "      <td>NaN</td>\n",
       "      <td>NaN</td>\n",
       "      <td>NaN</td>\n",
       "      <td>NaN</td>\n",
       "      <td>NaN</td>\n",
       "      <td>NaN</td>\n",
       "      <td>standing</td>\n",
       "      <td>fall_back_data_20240129_163134_labeled</td>\n",
       "      <td>standing</td>\n",
       "    </tr>\n",
       "  </tbody>\n",
       "</table>\n",
       "<p>5 rows × 55 columns</p>\n",
       "</div>"
      ],
      "text/plain": [
       "   acceleration_x  acceleration_y  acceleration_z  gyroscope_x  gyroscope_y  \\\n",
       "0            4292            -570             847           23          -60   \n",
       "1            4132            -223             886          -14          -14   \n",
       "2            4254            -361            1013           18          -78   \n",
       "3            4321            -270             979          -38          -65   \n",
       "4            4228            -371            1083          -68          -70   \n",
       "\n",
       "   gyroscope_z  acceleration_x_median  acceleration_y_median  \\\n",
       "0          -14                    NaN                    NaN   \n",
       "1           53                    NaN                    NaN   \n",
       "2           25                    NaN                    NaN   \n",
       "3           31                    NaN                    NaN   \n",
       "4           18                    NaN                    NaN   \n",
       "\n",
       "   acceleration_z_median  gyroscope_x_median  ...  acc_magnitude_min  \\\n",
       "0                    NaN                 NaN  ...                NaN   \n",
       "1                    NaN                 NaN  ...                NaN   \n",
       "2                    NaN                 NaN  ...                NaN   \n",
       "3                    NaN                 NaN  ...                NaN   \n",
       "4                    NaN                 NaN  ...                NaN   \n",
       "\n",
       "   acc_magnitude_max  gyr_magnitude_sum  gyr_magnitude_mean  \\\n",
       "0                NaN                NaN                 NaN   \n",
       "1                NaN                NaN                 NaN   \n",
       "2                NaN                NaN                 NaN   \n",
       "3                NaN                NaN                 NaN   \n",
       "4                NaN                NaN                 NaN   \n",
       "\n",
       "   gyr_magnitude_std  gyr_magnitude_min  gyr_magnitude_max     label  \\\n",
       "0                NaN                NaN                NaN  standing   \n",
       "1                NaN                NaN                NaN  standing   \n",
       "2                NaN                NaN                NaN  standing   \n",
       "3                NaN                NaN                NaN  standing   \n",
       "4                NaN                NaN                NaN  standing   \n",
       "\n",
       "                                 filename  simple_label  \n",
       "0  fall_back_data_20240129_163134_labeled      standing  \n",
       "1  fall_back_data_20240129_163134_labeled      standing  \n",
       "2  fall_back_data_20240129_163134_labeled      standing  \n",
       "3  fall_back_data_20240129_163134_labeled      standing  \n",
       "4  fall_back_data_20240129_163134_labeled      standing  \n",
       "\n",
       "[5 rows x 55 columns]"
      ]
     },
     "execution_count": 56,
     "metadata": {},
     "output_type": "execute_result"
    }
   ],
   "source": [
    "def map_label_to_new_category(label):\n",
    "    if 'fall' in str(label):\n",
    "        return 'falling'\n",
    "    elif 'walking' in str(label):\n",
    "        return 'walking'\n",
    "\n",
    "    elif 'standing' in str(label):\n",
    "        return 'standing'\n",
    "    else:\n",
    "        return 'other'\n",
    "\n",
    "# Apply the function to create a new label column\n",
    "data['simple_label'] = data['label'].apply(map_label_to_new_category)\n",
    "\n",
    "data.head()"
   ]
  },
  {
   "cell_type": "code",
   "execution_count": 57,
   "metadata": {},
   "outputs": [],
   "source": [
    "data = data[data[\"simple_label\"].isin([\"falling\", \"walking\", \"standing\"])]"
   ]
  },
  {
   "cell_type": "code",
   "execution_count": 58,
   "metadata": {},
   "outputs": [],
   "source": [
    "data = data.dropna()\n",
    "\n",
    "\n",
    "X = data.drop(['filename', 'label','simple_label'], axis=1)\n",
    "y = data['simple_label']"
   ]
  },
  {
   "cell_type": "code",
   "execution_count": 59,
   "metadata": {},
   "outputs": [],
   "source": [
    "X_train, X_test, y_train, y_test = train_test_split(X, y, test_size=0.2, random_state=42)\n"
   ]
  },
  {
   "cell_type": "code",
   "execution_count": 60,
   "metadata": {},
   "outputs": [],
   "source": [
    "scaler = StandardScaler()\n",
    "X_train_scaled = scaler.fit_transform(X_train)\n",
    "X_test_scaled = scaler.transform(X_test)"
   ]
  },
  {
   "cell_type": "code",
   "execution_count": 61,
   "metadata": {},
   "outputs": [],
   "source": [
    "# Initialize the model you want to use\n",
    "model = LogisticRegression(max_iter=1000)\n",
    "\n",
    "# Initialize RFE with the model and the desired number of features\n",
    "selector = RFE(model, step=1)\n",
    "\n",
    "# Fit RFE\n",
    "selector = selector.fit(X_train_scaled, y_train)\n",
    "\n",
    "# Transform datasets\n",
    "X_train_selected = selector.transform(X_train_scaled)\n",
    "X_test_selected = selector.transform(X_test_scaled)"
   ]
  },
  {
   "cell_type": "code",
   "execution_count": 62,
   "metadata": {},
   "outputs": [
    {
     "name": "stdout",
     "output_type": "stream",
     "text": [
      "Selected features: ['acceleration_x_median', 'acceleration_y_median', 'acceleration_z_median', 'acceleration_x_std', 'acceleration_x_max', 'acceleration_y_std', 'acceleration_y_max', 'acceleration_z_mean', 'acceleration_z_std', 'acceleration_z_min', 'acceleration_z_max', 'gyroscope_x_std', 'gyroscope_y_std', 'gyroscope_y_min', 'gyroscope_y_max', 'gyroscope_z_std', 'gyroscope_z_min', 'gyroscope_z_max', 'acc_magnitude_sum', 'acc_magnitude_mean', 'acc_magnitude_std', 'acc_magnitude_min', 'acc_magnitude_max', 'gyr_magnitude_std', 'gyr_magnitude_min', 'gyr_magnitude_max']\n"
     ]
    }
   ],
   "source": [
    "# Get the mask of selected features\n",
    "selected_features_mask = selector.support_\n",
    "\n",
    "# Apply this mask to the columns of the original dataset to get the selected feature names\n",
    "selected_columns = X.columns[selected_features_mask]\n",
    "\n",
    "# Print the names of the selected features\n",
    "print(\"Selected features:\", selected_columns.tolist())"
   ]
  },
  {
   "cell_type": "code",
   "execution_count": 63,
   "metadata": {},
   "outputs": [
    {
     "data": {
      "text/html": [
       "<style>#sk-container-id-7 {color: black;}#sk-container-id-7 pre{padding: 0;}#sk-container-id-7 div.sk-toggleable {background-color: white;}#sk-container-id-7 label.sk-toggleable__label {cursor: pointer;display: block;width: 100%;margin-bottom: 0;padding: 0.3em;box-sizing: border-box;text-align: center;}#sk-container-id-7 label.sk-toggleable__label-arrow:before {content: \"▸\";float: left;margin-right: 0.25em;color: #696969;}#sk-container-id-7 label.sk-toggleable__label-arrow:hover:before {color: black;}#sk-container-id-7 div.sk-estimator:hover label.sk-toggleable__label-arrow:before {color: black;}#sk-container-id-7 div.sk-toggleable__content {max-height: 0;max-width: 0;overflow: hidden;text-align: left;background-color: #f0f8ff;}#sk-container-id-7 div.sk-toggleable__content pre {margin: 0.2em;color: black;border-radius: 0.25em;background-color: #f0f8ff;}#sk-container-id-7 input.sk-toggleable__control:checked~div.sk-toggleable__content {max-height: 200px;max-width: 100%;overflow: auto;}#sk-container-id-7 input.sk-toggleable__control:checked~label.sk-toggleable__label-arrow:before {content: \"▾\";}#sk-container-id-7 div.sk-estimator input.sk-toggleable__control:checked~label.sk-toggleable__label {background-color: #d4ebff;}#sk-container-id-7 div.sk-label input.sk-toggleable__control:checked~label.sk-toggleable__label {background-color: #d4ebff;}#sk-container-id-7 input.sk-hidden--visually {border: 0;clip: rect(1px 1px 1px 1px);clip: rect(1px, 1px, 1px, 1px);height: 1px;margin: -1px;overflow: hidden;padding: 0;position: absolute;width: 1px;}#sk-container-id-7 div.sk-estimator {font-family: monospace;background-color: #f0f8ff;border: 1px dotted black;border-radius: 0.25em;box-sizing: border-box;margin-bottom: 0.5em;}#sk-container-id-7 div.sk-estimator:hover {background-color: #d4ebff;}#sk-container-id-7 div.sk-parallel-item::after {content: \"\";width: 100%;border-bottom: 1px solid gray;flex-grow: 1;}#sk-container-id-7 div.sk-label:hover label.sk-toggleable__label {background-color: #d4ebff;}#sk-container-id-7 div.sk-serial::before {content: \"\";position: absolute;border-left: 1px solid gray;box-sizing: border-box;top: 0;bottom: 0;left: 50%;z-index: 0;}#sk-container-id-7 div.sk-serial {display: flex;flex-direction: column;align-items: center;background-color: white;padding-right: 0.2em;padding-left: 0.2em;position: relative;}#sk-container-id-7 div.sk-item {position: relative;z-index: 1;}#sk-container-id-7 div.sk-parallel {display: flex;align-items: stretch;justify-content: center;background-color: white;position: relative;}#sk-container-id-7 div.sk-item::before, #sk-container-id-7 div.sk-parallel-item::before {content: \"\";position: absolute;border-left: 1px solid gray;box-sizing: border-box;top: 0;bottom: 0;left: 50%;z-index: -1;}#sk-container-id-7 div.sk-parallel-item {display: flex;flex-direction: column;z-index: 1;position: relative;background-color: white;}#sk-container-id-7 div.sk-parallel-item:first-child::after {align-self: flex-end;width: 50%;}#sk-container-id-7 div.sk-parallel-item:last-child::after {align-self: flex-start;width: 50%;}#sk-container-id-7 div.sk-parallel-item:only-child::after {width: 0;}#sk-container-id-7 div.sk-dashed-wrapped {border: 1px dashed gray;margin: 0 0.4em 0.5em 0.4em;box-sizing: border-box;padding-bottom: 0.4em;background-color: white;}#sk-container-id-7 div.sk-label label {font-family: monospace;font-weight: bold;display: inline-block;line-height: 1.2em;}#sk-container-id-7 div.sk-label-container {text-align: center;}#sk-container-id-7 div.sk-container {/* jupyter's `normalize.less` sets `[hidden] { display: none; }` but bootstrap.min.css set `[hidden] { display: none !important; }` so we also need the `!important` here to be able to override the default hidden behavior on the sphinx rendered scikit-learn.org. See: https://github.com/scikit-learn/scikit-learn/issues/21755 */display: inline-block !important;position: relative;}#sk-container-id-7 div.sk-text-repr-fallback {display: none;}</style><div id=\"sk-container-id-7\" class=\"sk-top-container\"><div class=\"sk-text-repr-fallback\"><pre>LogisticRegression(max_iter=1000)</pre><b>In a Jupyter environment, please rerun this cell to show the HTML representation or trust the notebook. <br />On GitHub, the HTML representation is unable to render, please try loading this page with nbviewer.org.</b></div><div class=\"sk-container\" hidden><div class=\"sk-item\"><div class=\"sk-estimator sk-toggleable\"><input class=\"sk-toggleable__control sk-hidden--visually\" id=\"sk-estimator-id-7\" type=\"checkbox\" checked><label for=\"sk-estimator-id-7\" class=\"sk-toggleable__label sk-toggleable__label-arrow\">LogisticRegression</label><div class=\"sk-toggleable__content\"><pre>LogisticRegression(max_iter=1000)</pre></div></div></div></div></div>"
      ],
      "text/plain": [
       "LogisticRegression(max_iter=1000)"
      ]
     },
     "execution_count": 63,
     "metadata": {},
     "output_type": "execute_result"
    }
   ],
   "source": [
    "# Fit the model on the training set\n",
    "model.fit(X_train_selected, y_train)\n"
   ]
  },
  {
   "cell_type": "code",
   "execution_count": 64,
   "metadata": {},
   "outputs": [
    {
     "name": "stdout",
     "output_type": "stream",
     "text": [
      "Accuracy: 0.9872673849167483\n",
      "\n",
      "Classification Report:\n",
      "               precision    recall  f1-score   support\n",
      "\n",
      "     falling       0.97      0.84      0.90       228\n",
      "    standing       0.98      1.00      0.99      2318\n",
      "     walking       0.99      1.00      0.99      1538\n",
      "\n",
      "    accuracy                           0.99      4084\n",
      "   macro avg       0.98      0.94      0.96      4084\n",
      "weighted avg       0.99      0.99      0.99      4084\n",
      "\n"
     ]
    }
   ],
   "source": [
    "# Predict on the test set\n",
    "y_pred = model.predict(X_test_selected)\n",
    "\n",
    "# Evaluate the model\n",
    "print(\"Accuracy:\", accuracy_score(y_test, y_pred))\n",
    "print(\"\\nClassification Report:\\n\", classification_report(y_test, y_pred))\n"
   ]
  },
  {
   "cell_type": "code",
   "execution_count": 67,
   "metadata": {},
   "outputs": [],
   "source": [
    "import joblib"
   ]
  },
  {
   "cell_type": "code",
   "execution_count": 68,
   "metadata": {},
   "outputs": [
    {
     "data": {
      "text/plain": [
       "['model.pkl']"
      ]
     },
     "execution_count": 68,
     "metadata": {},
     "output_type": "execute_result"
    }
   ],
   "source": [
    "joblib.dump(scaler, 'scaler.pkl')  # This will save your scaler to scaler.pkl\n",
    "joblib.dump(model, 'model.pkl')  # This will save your model to model.pkl"
   ]
  },
  {
   "cell_type": "code",
   "execution_count": null,
   "metadata": {},
   "outputs": [],
   "source": [
    "def predict_label(input_row):\n",
    "    \"\"\"\n",
    "    Takes a row of input features, preprocesses it, applies the prediction model, \n",
    "    and returns the predicted label.\n",
    "    \n",
    "    Parameters:\n",
    "    - input_row: A numpy array or a list of input features corresponding to one observation.\n",
    "    \n",
    "    Returns:\n",
    "    - The predicted label for the input observation.\n",
    "    \"\"\"\n",
    "    # Ensure input_row is in the correct shape (1, number_of_features)\n",
    "    if isinstance(input_row, list):\n",
    "        input_row = np.array(input_row).reshape(1, -1)\n",
    "    elif isinstance(input_row, np.ndarray) and input_row.ndim == 1:\n",
    "        input_row = input_row.reshape(1, -1)\n",
    "    \n",
    "    # Apply scaling to the input row using the trained scaler\n",
    "    scaled_row = scaler.transform(input_row)\n",
    "    \n",
    "    # Use the model to predict the label for the scaled input row\n",
    "    predicted_label = model.predict(scaled_row)\n",
    "    \n",
    "    return predicted_label[0]  # Return the predicted label"
   ]
  }
 ],
 "metadata": {
  "kernelspec": {
   "display_name": "base",
   "language": "python",
   "name": "python3"
  },
  "language_info": {
   "codemirror_mode": {
    "name": "ipython",
    "version": 3
   },
   "file_extension": ".py",
   "mimetype": "text/x-python",
   "name": "python",
   "nbconvert_exporter": "python",
   "pygments_lexer": "ipython3",
   "version": "3.11.4"
  }
 },
 "nbformat": 4,
 "nbformat_minor": 2
}
